{
  "nbformat": 4,
  "nbformat_minor": 0,
  "metadata": {
    "colab": {
      "provenance": [],
      "authorship_tag": "ABX9TyON5APKhqs4I3YXaZ8co2BY",
      "include_colab_link": true
    },
    "kernelspec": {
      "name": "python3",
      "display_name": "Python 3"
    },
    "language_info": {
      "name": "python"
    }
  },
  "cells": [
    {
      "cell_type": "markdown",
      "metadata": {
        "id": "view-in-github",
        "colab_type": "text"
      },
      "source": [
        "<a href=\"https://colab.research.google.com/github/tomo082/tus/blob/ResAD_ssv/BGAD.ipynb\" target=\"_parent\"><img src=\"https://colab.research.google.com/assets/colab-badge.svg\" alt=\"Open In Colab\"/></a>"
      ]
    },
    {
      "cell_type": "markdown",
      "source": [
        "メモ<br>\n",
        "とりあえずBGADを動かして結果を見る<br>\n",
        "BGADのコードを見て、self-supervisedを適用するにはどうすればいいのか調べる<br>\n",
        "BGADのコードはunsuperviseがsupervisedかどうか<br>\n",
        "data-augの手法 cutpaste,draem,glass<br>\n",
        "dreamでは50%で適用していた,segmentationをどうするか? dreamを適用?<br>\n",
        "resadに応用するにはどうしたらいいか<br>\n",
        "ディスク整理 土曜?"
      ],
      "metadata": {
        "id": "DBwDhm4FL8Ul"
      }
    },
    {
      "cell_type": "code",
      "execution_count": null,
      "metadata": {
        "colab": {
          "base_uri": "https://localhost:8080/"
        },
        "id": "kAtAwmpeFeRq",
        "outputId": "318067f2-c273-4e38-ba52-9965b7197cbe"
      },
      "outputs": [
        {
          "output_type": "stream",
          "name": "stdout",
          "text": [
            "Cloning into 'BGAD'...\n",
            "remote: Enumerating objects: 75, done.\u001b[K\n",
            "remote: Counting objects: 100% (22/22), done.\u001b[K\n",
            "remote: Compressing objects: 100% (9/9), done.\u001b[K\n",
            "remote: Total 75 (delta 15), reused 13 (delta 13), pack-reused 53 (from 1)\u001b[K\n",
            "Unpacking objects: 100% (75/75), 9.75 MiB | 11.87 MiB/s, done.\n"
          ]
        }
      ],
      "source": [
        "! git clone https://github.com/xcyao00/BGAD"
      ]
    },
    {
      "cell_type": "markdown",
      "source": [
        "とりあえずBGADを動かしてみる"
      ],
      "metadata": {
        "id": "hqEOmpK4HYIy"
      }
    },
    {
      "cell_type": "code",
      "source": [
        "# mvtec train\n",
        "! python /home/ueno/BGAD/main.py --flow_arch conditional_flow_model --gpu 0 --data_path /home/ueno/mvtec-data --with_fas --data_strategy 0,1 --num_anomalies 10 --not_in_test --exp_name bgad_fas_10 --focal_weighting --pos_beta 0.01 --margin_tau 0.1\n"
      ],
      "metadata": {
        "colab": {
          "base_uri": "https://localhost:8080/"
        },
        "id": "iJiQ-OGIG6SJ",
        "outputId": "29acee86-e37b-4b38-aa9a-f6a267d61b5f"
      },
      "execution_count": null,
      "outputs": [
        {
          "output_type": "stream",
          "name": "stdout",
          "text": [
            "/home/ueno/localsession/lib/python3.8/site-packages/albumentations/__init__.py:13: UserWarning: A new version of Albumentations is available: 2.0.7 (you have 1.4.18). Upgrade using: pip install -U albumentations. To disable automatic update checks, set the environment variable NO_ALBUMENTATIONS_UPDATE to 1.\r\n",
            "  check_for_updates()\n",
            "LR schedule: [12, 18, 22]\n",
            "Downloading: \"https://github.com/rwightman/pytorch-image-models/releases/download/v0.1-weights/tf_efficientnet_b6_aa-80ba17e4.pth\" to /home/ueno/.cache/torch/hub/checkpoints/tf_efficientnet_b6_aa-80ba17e4.pth\n",
            "Traceback (most recent call last):\n",
            "  File \"/home/ueno/localsession/lib/python3.8/site-packages/torch/hub.py\", line 622, in download_url_to_file\n",
            "    f.write(buffer)\n",
            "  File \"/usr/lib/python3.8/tempfile.py\", line 628, in func_wrapper\n",
            "    return func(*args, **kwargs)\n",
            "OSError: [Errno 28] No space left on device\n",
            "\n",
            "During handling of the above exception, another exception occurred:\n",
            "\n",
            "Traceback (most recent call last):\n",
            "  File \"/home/ueno/BGAD/main.py\", line 70, in <module>\n",
            "    main()\n",
            "  File \"/home/ueno/BGAD/main.py\", line 57, in main\n",
            "    img_auc, pix_auc, pix_pro = main_single(args)\n",
            "  File \"/home/ueno/BGAD/main.py\", line 31, in main_single\n",
            "    img_auc, pix_auc, pix_pro = train(args)\n",
            "  File \"/home/ueno/BGAD/engines/bgad_fas_train_engine.py\", line 202, in train\n",
            "    encoder = timm.create_model(args.backbone_arch, features_only=True, \n",
            "  File \"/home/ueno/localsession/lib/python3.8/site-packages/timm/models/factory.py\", line 71, in create_model\n",
            "    model = create_fn(pretrained=pretrained, pretrained_cfg=pretrained_cfg, **kwargs)\n",
            "  File \"/home/ueno/localsession/lib/python3.8/site-packages/timm/models/efficientnet.py\", line 1805, in tf_efficientnet_b6\n",
            "    model = _gen_efficientnet(\n",
            "  File \"/home/ueno/localsession/lib/python3.8/site-packages/timm/models/efficientnet.py\", line 880, in _gen_efficientnet\n",
            "    model = _create_effnet(variant, pretrained, **model_kwargs)\n",
            "  File \"/home/ueno/localsession/lib/python3.8/site-packages/timm/models/efficientnet.py\", line 629, in _create_effnet\n",
            "    model = build_model_with_cfg(\n",
            "  File \"/home/ueno/localsession/lib/python3.8/site-packages/timm/models/helpers.py\", line 551, in build_model_with_cfg\n",
            "    load_pretrained(\n",
            "  File \"/home/ueno/localsession/lib/python3.8/site-packages/timm/models/helpers.py\", line 248, in load_pretrained\n",
            "    state_dict = load_state_dict_from_url(\n",
            "  File \"/home/ueno/localsession/lib/python3.8/site-packages/torch/hub.py\", line 731, in load_state_dict_from_url\n",
            "    download_url_to_file(url, cached_file, hash_prefix, progress=progress)\n",
            "  File \"/home/ueno/localsession/lib/python3.8/site-packages/torch/hub.py\", line 635, in download_url_to_file\n",
            "    f.close()\n",
            "  File \"/usr/lib/python3.8/tempfile.py\", line 654, in close\n",
            "    self._closer.close()\n",
            "  File \"/usr/lib/python3.8/tempfile.py\", line 588, in close\n",
            "    self.file.close()\n",
            "OSError: [Errno 28] No space left on device\n"
          ]
        }
      ]
    },
    {
      "cell_type": "code",
      "source": [
        "! dr"
      ],
      "metadata": {
        "colab": {
          "base_uri": "https://localhost:8080/"
        },
        "id": "wrKI-Zm0Ita0",
        "outputId": "653f9c45-3636-4d48-9c30-8a8be6846b37"
      },
      "execution_count": null,
      "outputs": [
        {
          "output_type": "stream",
          "name": "stdout",
          "text": [
            "/bin/bash: dr: command not found\r\n"
          ]
        }
      ]
    },
    {
      "cell_type": "markdown",
      "source": [],
      "metadata": {
        "id": "aYf1tAmdIskH"
      }
    }
  ]
}